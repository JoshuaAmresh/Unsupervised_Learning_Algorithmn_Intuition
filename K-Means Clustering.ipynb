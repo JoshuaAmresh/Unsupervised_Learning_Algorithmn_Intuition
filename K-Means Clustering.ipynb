{
 "cells": [
  {
   "cell_type": "markdown",
   "metadata": {},
   "source": [
    "<img src = 'K_Means_1.PNG'/>"
   ]
  },
  {
   "cell_type": "markdown",
   "metadata": {},
   "source": [
    "In clustering, the metric in the alogithmn we use is of two types. Euclidean and Manhattan distance. The following are the steps in a K-Means algorithmn\n",
    "\n",
    "- Set a k-value\n",
    "- Initialize the K centroids randomly\n",
    "- Select the group and find the mean\n",
    "- Move the centroid to the mean of the cluster\n",
    "- Repeat from step 2 till the centroids no longer move or points are not traded between clusters"
   ]
  },
  {
   "cell_type": "markdown",
   "metadata": {},
   "source": [
    "<img src = 'K_Means_2.PNG'/>"
   ]
  },
  {
   "cell_type": "markdown",
   "metadata": {},
   "source": [
    "To find the optimal k-value in K_Means, the elbow method is used. In elbow method, we do the clustering with different values for K and find the WCSS (within cluster sum of squares) values for each value of K. We plot the results in a graph, which gives a curve shaped like an elbow as above. The optimal number of clusters is the value where the last abrupt decrease in the WCSS value is. "
   ]
  },
  {
   "cell_type": "code",
   "execution_count": null,
   "metadata": {},
   "outputs": [],
   "source": []
  }
 ],
 "metadata": {
  "kernelspec": {
   "display_name": "Python 3 (ipykernel)",
   "language": "python",
   "name": "python3"
  },
  "language_info": {
   "codemirror_mode": {
    "name": "ipython",
    "version": 3
   },
   "file_extension": ".py",
   "mimetype": "text/x-python",
   "name": "python",
   "nbconvert_exporter": "python",
   "pygments_lexer": "ipython3",
   "version": "3.9.7"
  }
 },
 "nbformat": 4,
 "nbformat_minor": 2
}
